{
  "nbformat": 4,
  "nbformat_minor": 0,
  "metadata": {
    "colab": {
      "provenance": []
    },
    "kernelspec": {
      "name": "python3",
      "display_name": "Python 3"
    },
    "language_info": {
      "name": "python"
    }
  },
  "cells": [
    {
      "cell_type": "code",
      "execution_count": null,
      "metadata": {
        "id": "IRoMowzyGTnD"
      },
      "outputs": [],
      "source": [
        "from queue import Queue\n",
        "\n",
        "# Criar a fila de logins\n",
        "fila_logins = Queue()\n",
        "\n",
        "# Função para login\n",
        "def login(nome):\n",
        "    # Evitar login duplicado\n",
        "    if nome in list(fila_logins.queue):\n",
        "        print(f\"\\n{nome} já está na fila (logado).\")\n",
        "    else:\n",
        "        fila_logins.put(nome)\n",
        "        print(f\"\\n{nome} fez login e entrou na fila.\")\n",
        "\n",
        "# Função para logout\n",
        "def logout():\n",
        "    if not fila_logins.empty():\n",
        "        nome = fila_logins.get()\n",
        "        print(f\"\\n{nome} foi deslogado (saiu da fila).\")\n",
        "    else:\n",
        "        print(\"\\nNenhum cliente está logado para fazer logout.\")\n",
        "\n",
        "# Mostrar fila atual\n",
        "def mostrar_fila():\n",
        "    if fila_logins.empty():\n",
        "        print(\"\\nNenhum cliente está na fila.\")\n",
        "    else:\n",
        "        print(\"\\nFila de logados (ordem de entrada):\")\n",
        "        for i, nome in enumerate(list(fila_logins.queue), start=1):\n",
        "            print(f\"{i}. {nome}\")\n",
        "\n",
        "# Menu principal\n",
        "def menu():\n",
        "    while True:\n",
        "        print(\"\\n--- MENU LOGIN (FILA) ---\")\n",
        "        print(\"1 - Login\")\n",
        "        print(\"2 - Logout\")\n",
        "        print(\"3 - Ver fila de logados\")\n",
        "        print(\"0 - Sair\")\n",
        "        opcao = input(\"Escolha uma opção: \")\n",
        "\n",
        "        if opcao == \"1\":\n",
        "            nome = input(\"Digite o nome para login: \").strip()\n",
        "            login(nome)\n",
        "        elif opcao == \"2\":\n",
        "            logout()\n",
        "        elif opcao == \"3\":\n",
        "            mostrar_fila()\n",
        "        elif opcao == \"0\":\n",
        "            print(\"\\nEncerrando o sistema. Até logo.\")\n",
        "            break\n",
        "        else:\n",
        "            print(\"\\nOpção inválida. Tente novamente.\")\n",
        "\n",
        "# Executar o menu\n",
        "menu()\n"
      ]
    }
  ]
}