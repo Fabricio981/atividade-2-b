{
  "nbformat": 4,
  "nbformat_minor": 0,
  "metadata": {
    "colab": {
      "provenance": []
    },
    "kernelspec": {
      "name": "python3",
      "display_name": "Python 3"
    },
    "language_info": {
      "name": "python"
    }
  },
  "cells": [
    {
      "cell_type": "code",
      "execution_count": null,
      "metadata": {
        "id": "TQHL-4mnP3op"
      },
      "outputs": [],
      "source": []
    },
    {
      "cell_type": "code",
      "source": [
        "from queue import Queue\n",
        "\n",
        "fila_logins = Queue()\n",
        "\n",
        "def login(nome, idade, CPF, email, senha):\n",
        "    # Evitar login duplicado\n",
        "    if nome in list(fila_logins.queue):\n",
        "        print(f\"\\n{nome} já está na fila (logado).\")\n",
        "    else:\n",
        "        fila_logins.put(nome)\n",
        "        print(f\"\\n{nome} fez login e entrou na fila.\")\n",
        "        # You might want to store idade, CPF, and email somewhere,\n",
        "        # but for this fix, we are just ensuring the function call is correct.\n",
        "\n",
        "def logout():\n",
        "    if not fila_logins.empty():\n",
        "        nome = fila_logins.get()\n",
        "        print(f\"\\n{nome} foi deslogado (saiu da fila).\")\n",
        "    else:\n",
        "        print(\"\\nNenhum cliente está logado para fazer logout.\")\n",
        "\n",
        "def mostrar_fila():\n",
        "    if fila_logins.empty():\n",
        "        print(\"\\nNenhum cliente está na fila.\")\n",
        "    else:\n",
        "        print(\"\\nFila de logados (ordem de entrada):\")\n",
        "        for i, nome in enumerate(list(fila_logins.queue), start=1):\n",
        "            print(f\"{i}. {nome}\")\n",
        "\n",
        "def menu():\n",
        "    while True:\n",
        "        print(\"\\n--- MENU LOGIN (FILA) ---\")\n",
        "        print(\"1 - Login\")\n",
        "        print(\"2 - Logout\")\n",
        "        print(\"3 - Ver fila de logados\")\n",
        "        print(\"4 - Dados do usuário já logado\")\n",
        "        print(\"0 - Sair\")\n",
        "        opcao = input(\"Escolha uma opção: \")\n",
        "\n",
        "        if opcao == \"1\":\n",
        "            nome = input(\"Digite o nome para login: \").strip()\n",
        "            idade = input(\"Digite a idade: \").strip()\n",
        "            CPF = input(\"Digite o CPF: \").strip()\n",
        "            email = input(\"Digite o email: \").strip()\n",
        "            senha = input(\"Digite a senha: \").strip()\n",
        "            login(nome, idade, CPF, email, senha) # Pass all required arguments\n",
        "        elif opcao == \"2\":\n",
        "            logout()\n",
        "        elif opcao == \"3\":\n",
        "            mostrar_fila()\n",
        "        elif opcao == \"4\":\n",
        "          print(\"Seus dados são:\")\n",
        "          matriz = [\n",
        "              [print(\"Seu nome é:\", nome), print(\"Sua idade é:\", idade)],\n",
        "              [print(\"Seu CPF é:\", CPF), print(\"Seu email é:\", email)],\n",
        "              [print(\"Sua senha é:\", senha),]\n",
        "          ]\n",
        "          for i in matriz:\n",
        "            print()\n",
        "        elif opcao == \"0\":\n",
        "            print(\"\\nEncerrando o sistema. Até logo.\")\n",
        "            break\n",
        "        else:\n",
        "            print(\"\\nOpção inválida. Tente novamente.\")\n",
        "\n",
        "menu()\n",
        "\n",
        "\n",
        "\n"
      ],
      "metadata": {
        "colab": {
          "base_uri": "https://localhost:8080/"
        },
        "id": "i6PvodXgzyB6",
        "outputId": "bd6f3fd5-f497-4cfc-8900-e254e02cb507"
      },
      "execution_count": null,
      "outputs": [
        {
          "output_type": "stream",
          "name": "stdout",
          "text": [
            "\n",
            "--- MENU LOGIN (FILA) ---\n",
            "1 - Login\n",
            "2 - Logout\n",
            "3 - Ver fila de logados\n",
            "4 - Dados do usuário já logado\n",
            "0 - Sair\n",
            "Escolha uma opção: 1\n",
            "Digite o nome para login: gi\n",
            "Digite a idade: 16\n",
            "Digite o CPF: 234\n",
            "Digite o email: 67\n",
            "Digite a senha: 1234\n",
            "\n",
            "gi fez login e entrou na fila.\n",
            "\n",
            "--- MENU LOGIN (FILA) ---\n",
            "1 - Login\n",
            "2 - Logout\n",
            "3 - Ver fila de logados\n",
            "4 - Dados do usuário já logado\n",
            "0 - Sair\n",
            "Escolha uma opção: 4\n",
            "Seus dados são:\n",
            "Seu nome é: gi\n",
            "Sua idade é: 16\n",
            "Seu CPF é: 234\n",
            "Seu email é: 67\n",
            "Sua senha é: 1234\n",
            "\n",
            "\n",
            "\n",
            "\n",
            "--- MENU LOGIN (FILA) ---\n",
            "1 - Login\n",
            "2 - Logout\n",
            "3 - Ver fila de logados\n",
            "4 - Dados do usuário já logado\n",
            "0 - Sair\n",
            "Escolha uma opção: 0\n",
            "\n",
            "Encerrando o sistema. Até logo.\n"
          ]
        }
      ]
    }
  ]
}