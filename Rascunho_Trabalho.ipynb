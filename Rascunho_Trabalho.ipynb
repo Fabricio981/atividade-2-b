from queue import Queue

fila_logins = Queue()

def login(nome, idade, CPF, email):
    # Evitar login duplicado
    if nome in list(fila_logins.queue):
        print(f"\n{nome} já está na fila (logado).")
    else:
        fila_logins.put(nome)
        print(f"\n{nome} fez login e entrou na fila.")
        # You might want to store idade, CPF, and email somewhere,
        # but for this fix, we are just ensuring the function call is correct.

def logout():
    if not fila_logins.empty():
        nome = fila_logins.get()
        print(f"\n{nome} foi deslogado (saiu da fila).")
    else:
        print("\nNenhum cliente está logado para fazer logout.")

def mostrar_fila():
    if fila_logins.empty():
        print("\nNenhum cliente está na fila.")
    else:
        print("\nFila de logados (ordem de entrada):")
        for i, nome in enumerate(list(fila_logins.queue), start=1):
            print(f"{i}. {nome}")

def menu():
    while True:
        print("\n--- MENU LOGIN (FILA) ---")
        print("1 - Login")
        print("2 - Logout")
        print("3 - Ver fila de logados")
        print("0 - Sair")
        opcao = input("Escolha uma opção: ")

        if opcao == "1":
            nome = input("Digite o nome para login: ").strip()
            idade = input("Digite a idade: ").strip()
            CPF = input("Digite o CPF: ").strip()
            email = input("Digite o email: ").strip()
            login(nome, idade, CPF, email) # Pass all required arguments
        elif opcao == "2":
            logout()
        elif opcao == "3":
            mostrar_fila()
        elif opcao == "0":
            print("\nEncerrando o sistema. Até logo.")
            break
        else:
            print("\nOpção inválida. Tente novamente.")

menu()
