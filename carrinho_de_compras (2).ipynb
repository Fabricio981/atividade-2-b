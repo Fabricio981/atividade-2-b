{
  "nbformat": 4,
  "nbformat_minor": 0,
  "metadata": {
    "colab": {
      "provenance": []
    },
    "kernelspec": {
      "name": "python3",
      "display_name": "Python 3"
    },
    "language_info": {
      "name": "python"
    }
  },
  "cells": [
    {
      "cell_type": "code",
      "execution_count": null,
      "metadata": {
        "id": "_2_OTpzy8S4p"
      },
      "outputs": [],
      "source": [
        "produtos = ['Rock in Rio', 'CCXP']\n",
        "valores = [1509, 1236]\n",
        "def carrinho():\n",
        "  carrinho = []\n",
        "  total = 0\n",
        "  valorInd = 0\n",
        "  addItem = input(\"Digite o nome do item que deseja adicionar ao carrinho ou a função que deseja executar: \")\n",
        "  for p in produtos:\n",
        "    if addItem in produtos:\n",
        "      carrinho.append(addItem)\n",
        "      valorInd = valores[produtos.index(addItem)]\n",
        "      total += valorInd\n",
        "      print(\"O item\", {addItem}, \"foi adicionado ao carrinho.\")\n",
        "    elif addItem == \"sair\":\n",
        "      break\n",
        "    elif addItem == \"remover\":\n",
        "      print(\"O item\", carrinho[-1],\"foi removido do carrinho.\")\n",
        "      carrinho.pop()\n",
        "      total = total - valorInd\n",
        "    elif addItem == \"listar\":\n",
        "      print(\"Os itens em seu carrinho são\", carrinho)\n",
        "    else:\n",
        "      print(\"Item indisponível! tente novamente.\")\n",
        "    addItem = input(\"Digite o nome do item que deseja adicionar ao carrinho ou a função que deseja executar: \")\n",
        "print('Os itens em seu carrinho são', carrinho,', o total é R$', total)"
      ]
    }
  ]
}