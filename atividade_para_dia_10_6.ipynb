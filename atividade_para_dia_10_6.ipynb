{
  "nbformat": 4,
  "nbformat_minor": 0,
  "metadata": {
    "colab": {
      "provenance": []
    },
    "kernelspec": {
      "name": "python3",
      "display_name": "Python 3"
    },
    "language_info": {
      "name": "python"
    }
  },
  "cells": [
    {
      "cell_type": "code",
      "execution_count": 7,
      "metadata": {
        "colab": {
          "base_uri": "https://localhost:8080/"
        },
        "id": "_pEveT-EvgIQ",
        "outputId": "44f0e790-e434-42e5-b343-f7a47603eba3"
      },
      "outputs": [
        {
          "output_type": "stream",
          "name": "stdout",
          "text": [
            "['debito', 'credito', 'pix', 'boleto']\n",
            "Escolha uma forma de pagamento: boleto\n",
            "Você escolheu a forma de pagamento: boleto\n",
            "Digite o valor da compra: 50 reais\n",
            "Você ira pagar 50 reais no boleto\n"
          ]
        }
      ],
      "source": [
        "v = []\n",
        "formas_pagamento = ['debito', 'credito', 'pix', 'boleto']\n",
        "print(formas_pagamento)\n",
        "v = formas_pagamento\n",
        "escolha = input(\"Escolha uma forma de pagamento: \")\n",
        "print(f\"Você escolheu a forma de pagamento:\", (escolha))\n",
        "valor = input(\"Digite o valor da compra: \")\n",
        "print('Você ira pagar', (valor), 'no', (escolha) )"
      ]
    }
  ]
}