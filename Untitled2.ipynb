{
  "nbformat": 4,
  "nbformat_minor": 0,
  "metadata": {
    "colab": {
      "provenance": []
    },
    "kernelspec": {
      "name": "python3",
      "display_name": "Python 3"
    },
    "language_info": {
      "name": "python"
    }
  },
  "cells": [
    {
      "cell_type": "code",
      "source": [],
      "metadata": {
        "id": "jGurQZK2-HoS"
      },
      "execution_count": null,
      "outputs": []
    },
    {
      "cell_type": "code",
      "execution_count": 24,
      "metadata": {
        "colab": {
          "base_uri": "https://localhost:8080/",
          "height": 349
        },
        "id": "AG3pSfvsvMzr",
        "outputId": "12fd9e38-641f-4359-e604-17449c7b107a"
      },
      "outputs": [
        {
          "name": "stdout",
          "output_type": "stream",
          "text": [
            "Rock in Rio\n",
            "Filme: Chico Bento\n",
            "Filme: Thunderbolts*\n",
            "Fenin Fashion Gramado\n",
            "Criar meu próprio evento\n",
            "Selecione 1 se quiser comprar ingressos. Selecione 2 se quiser adicionar um evento. Selcione 3 se quiser encerrar.2\n",
            "Digite o nome do evento:Aniversário\n",
            "Digite o valor do evento:40\n"
          ]
        },
        {
          "output_type": "error",
          "ename": "ValueError",
          "evalue": "too many values to unpack (expected 2)",
          "traceback": [
            "\u001b[0;31m---------------------------------------------------------------------------\u001b[0m",
            "\u001b[0;31mValueError\u001b[0m                                Traceback (most recent call last)",
            "\u001b[0;32m<ipython-input-24-f54d9dfdfb97>\u001b[0m in \u001b[0;36m<cell line: 0>\u001b[0;34m()\u001b[0m\n\u001b[1;32m     14\u001b[0m   \u001b[0mprodutos\u001b[0m\u001b[0;34m.\u001b[0m\u001b[0mappend\u001b[0m\u001b[0;34m(\u001b[0m\u001b[0minput\u001b[0m\u001b[0;34m(\u001b[0m\u001b[0;34m'Digite o nome do evento:'\u001b[0m\u001b[0;34m)\u001b[0m\u001b[0;34m)\u001b[0m\u001b[0;34m\u001b[0m\u001b[0;34m\u001b[0m\u001b[0m\n\u001b[1;32m     15\u001b[0m   \u001b[0mvalores\u001b[0m\u001b[0;34m.\u001b[0m\u001b[0mappend\u001b[0m\u001b[0;34m(\u001b[0m\u001b[0minput\u001b[0m\u001b[0;34m(\u001b[0m\u001b[0;34m'Digite o valor do evento:'\u001b[0m\u001b[0;34m)\u001b[0m\u001b[0;34m)\u001b[0m\u001b[0;34m\u001b[0m\u001b[0;34m\u001b[0m\u001b[0m\n\u001b[0;32m---> 16\u001b[0;31m   \u001b[0;32mfor\u001b[0m \u001b[0mproduto\u001b[0m\u001b[0;34m,\u001b[0m \u001b[0mvalor\u001b[0m \u001b[0;32min\u001b[0m \u001b[0mprodutos\u001b[0m\u001b[0;34m,\u001b[0m \u001b[0mvalores\u001b[0m\u001b[0;34m:\u001b[0m\u001b[0;34m\u001b[0m\u001b[0;34m\u001b[0m\u001b[0m\n\u001b[0m\u001b[1;32m     17\u001b[0m     \u001b[0mprint\u001b[0m\u001b[0;34m(\u001b[0m\u001b[0mproduto\u001b[0m\u001b[0;34m,\u001b[0m \u001b[0mvalor\u001b[0m\u001b[0;34m)\u001b[0m\u001b[0;34m\u001b[0m\u001b[0;34m\u001b[0m\u001b[0m\n\u001b[1;32m     18\u001b[0m   \u001b[0mescolha\u001b[0m \u001b[0;34m=\u001b[0m \u001b[0mint\u001b[0m\u001b[0;34m(\u001b[0m\u001b[0minput\u001b[0m\u001b[0;34m(\u001b[0m\u001b[0;34m\"Selecione 1 se quiser comprar ingressos. Selecione 2 se quiser adicionar um evento. Selcione 3 se quiser encerrar.\"\u001b[0m\u001b[0;34m)\u001b[0m\u001b[0;34m)\u001b[0m\u001b[0;34m\u001b[0m\u001b[0;34m\u001b[0m\u001b[0m\n",
            "\u001b[0;31mValueError\u001b[0m: too many values to unpack (expected 2)"
          ]
        }
      ],
      "source": [
        "produtos = ['Rock in Rio', 'Filme: Chico Bento', 'Filme: Thunderbolts*', 'Fenin Fashion Gramado', 'Criar meu próprio evento']\n",
        "valores = ['R$ 360,90', 'R$ 15,00', 'R$ 15,00', 'R$ 120,50', '*faça o orçamento com nossa equipe']\n",
        "\n",
        "for produto in produtos:\n",
        "    print(produto)\n",
        "escolha = int(input(\"Selecione 1 se quiser comprar ingressos. Selecione 2 se quiser adicionar um evento. Selcione 3 se quiser encerrar.\"))\n",
        "if escolha == 1:\n",
        "  ver = int(input(\"Selecione o evento: (De 1 a 5)\"))\n",
        "  for i in range(len(produtos)):\n",
        "    if (i) == int(ver - 1):\n",
        "      print(produtos[i])\n",
        "      print(valores[i])\n",
        "elif escolha == 2:\n",
        "  produtos.append(input('Digite o nome do evento:'))\n",
        "  valores.append(input('Digite o valor do evento:'))\n",
        "  for produto in produtos:\n",
        "    print(produto)\n",
        "  for valor in valores:\n",
        "    print(valor)\n",
        "  escolha = int(input(\"Selecione 1 se quiser comprar ingressos. Selecione 2 se quiser adicionar um evento. Selcione 3 se quiser encerrar.\"))\n",
        "else:\n",
        "  print(\"Saindo...\")\n",
        "\n",
        "\n"
      ]
    }
  ]
}