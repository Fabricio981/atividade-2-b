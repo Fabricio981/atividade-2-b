{
  "nbformat": 4,
  "nbformat_minor": 0,
  "metadata": {
    "colab": {
      "provenance": []
    },
    "kernelspec": {
      "name": "python3",
      "display_name": "Python 3"
    },
    "language_info": {
      "name": "python"
    }
  },
  "cells": [
    {
      "cell_type": "code",
      "source": [],
      "metadata": {
        "id": "jGurQZK2-HoS"
      },
      "execution_count": null,
      "outputs": []
    },
    {
      "cell_type": "code",
      "execution_count": 25,
      "metadata": {
        "colab": {
          "base_uri": "https://localhost:8080/"
        },
        "id": "AG3pSfvsvMzr",
        "outputId": "a7f490c8-658d-436e-d67e-07315e5bd993"
      },
      "outputs": [
        {
          "output_type": "stream",
          "name": "stdout",
          "text": [
            "Rock in Rio\n",
            "Filme: Chico Bento\n",
            "Filme: Thunderbolts*\n",
            "Fenin Fashion Gramado\n",
            "Criar meu próprio evento\n",
            "Selecione 1 se quiser comprar ingressos. Selecione 2 se quiser adicionar um evento. Selcione 3 se quiser encerrar.1\n",
            "Selecione o evento: (De 1 a 5)3\n",
            "Filme: Thunderbolts*\n",
            "R$ 15,00\n"
          ]
        }
      ],
      "source": [
        "produtos = ['Rock in Rio', 'Filme: Chico Bento', 'Filme: Thunderbolts*', 'Fenin Fashion Gramado', 'Criar meu próprio evento']\n",
        "valores = ['R$ 360,90', 'R$ 15,00', 'R$ 15,00', 'R$ 120,50', '*faça o orçamento com nossa equipe']\n",
        "\n",
        "for produto in produtos:\n",
        "    print(produto)\n",
        "escolha = int(input(\"Selecione 1 se quiser comprar ingressos. Selecione 2 se quiser adicionar um evento. Selcione 3 se quiser encerrar.\"))\n",
        "if escolha == 1:\n",
        "  ver = int(input(\"Selecione o evento: (De 1 a 5)\"))\n",
        "  for i in range(len(produtos)):\n",
        "    if (i) == int(ver - 1):\n",
        "      print(produtos[i])\n",
        "      print(valores[i])\n",
        "elif escolha == 2:\n",
        "  produtos.append(input('Digite o nome do evento:'))\n",
        "  valores.append(input('Digite o valor do evento:'))\n",
        "  for produto in produtos:\n",
        "    print(produto)\n",
        "  for valor in valores:\n",
        "    print(valor)\n",
        "  escolha = int(input(\"Selecione 1 se quiser comprar ingressos. Selecione 2 se quiser adicionar um evento. Selcione 3 se quiser encerrar.\"))\n",
        "else:\n",
        "  print(\"Saindo...\")\n",
        "\n",
        "\n"
      ]
    }
  ]
}