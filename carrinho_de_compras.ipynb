print("arquivo errado. não to conseguindo apagar <3")
